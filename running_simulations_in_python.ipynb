{
 "cells": [
  {
   "cell_type": "markdown",
   "id": "808972d6",
   "metadata": {},
   "source": [
    "# Running Simulations in Python\n",
    "\n",
    "<img src='images/artistic-illustration-of-simulation-theory.jpeg' width=75%>\n",
    "\n",
    "> <a href='https://www.unrevealedfiles.com/is-the-universe-a-computer-simulation/'>*Img Source*</a>"
   ]
  },
  {
   "cell_type": "markdown",
   "id": "0d0bb2ee",
   "metadata": {},
   "source": [
    "## Why run simulations?\n",
    "#### \"Hard\" calculation vs *Monte Carlo*.\n",
    "> ***Monte Carlo methods***, *or **Monte Carlo experiments**, are a broad class of computational algorithms that rely on repeated random sampling to obtain numerical results.*\n",
    ">\n",
    "> *The underlying concept is **to use randomness to solve problems that might be deterministic in principle**.*\n",
    ">\n",
    "> *They are often used in physical and mathematical problems and are most useful **when it is difficult or impossible to use other approaches**.* \n",
    ">\n",
    "> *Monte Carlo methods are mainly used in three problem classes: optimization, numerical integration, and generating draws from a probability distribution.*\n",
    ">\n",
    "> <a href='https://en.wikipedia.org/wiki/Monte_Carlo_method'>*Monte Carlo - Wiki*</a>\n",
    "\n",
    "---\n",
    "\n",
    "*\"Solving\" for $\\large \\pi$!*\n",
    "\n",
    "<img src='images/Pi_30K.gif'>\n",
    "\n",
    "> *By nicoguaro - Own work, CC BY 3.0, https://commons.wikimedia.org/w/index.php?curid=14609430*"
   ]
  },
  {
   "cell_type": "markdown",
   "id": "e07120ba",
   "metadata": {},
   "source": [
    "#### Creation of \"Event Space\".\n",
    "- Games are a great place to start!\n",
    "    - Rules, limitations, confinement.\n",
    "- Used in Reinforcement Learning.\n",
    "    \n",
    "\n",
    "#### Take a simple task and repeat it indefinitely.\n",
    "\n",
    "\n",
    "#### Acquire synthetic data and make concrete decisions."
   ]
  },
  {
   "cell_type": "markdown",
   "id": "f7be56d7",
   "metadata": {},
   "source": [
    "## What does it mean to run a simulation?\n",
    "- Non-visual simulation where only the parameters and results are relevant."
   ]
  },
  {
   "cell_type": "markdown",
   "id": "f1024901",
   "metadata": {},
   "source": [
    "# Building a Simulation - *Risk*\n",
    "\n",
    "<img src='images/risk.jpeg'>\n",
    "\n",
    "> *Risk board game. CREDIT: Alamy*"
   ]
  },
  {
   "cell_type": "markdown",
   "id": "d13b2cea",
   "metadata": {},
   "source": [
    "## *What is Risk?*\n",
    "\n",
    "#### Rules / Object\n",
    "- Risk is a game of **world domination!**\n",
    "\n",
    "\n",
    "- The object is ***to conquer the world by occupying all territories on the board.*** *You need to eliminate all your opponents.*"
   ]
  },
  {
   "cell_type": "markdown",
   "id": "c5d08004",
   "metadata": {},
   "source": [
    "### What are we going to simulate?\n",
    "- Two armies, of size `n, m` respectively, are battling - `A`: attacker, `D`: defender.\n",
    "    - Attacker rolls up to 3 dice, Defender rolls up to 2 dice.\n",
    "    \n",
    "    \n",
    "- The highest dice are compared, then the second-highest dice are compared (if necessary).\n",
    "    - ***Tie goes to the defender.***\n",
    "    \n",
    "    \n",
    "- Armies are removed based on results.\n",
    "    \n",
    "<img src='images/battle.jpeg'>\n",
    "\n",
    "> <a href='https://www.ultraboardgames.com/risk/game-rules.php'>*Official Rules*</a>"
   ]
  },
  {
   "cell_type": "markdown",
   "id": "c02f5117",
   "metadata": {},
   "source": [
    "#### What can we learn from running this simulation?\n",
    "- Our goal today is to see which matters more: ***the attacker rolling an extra die*** or ***the defender winning on a tie***."
   ]
  },
  {
   "cell_type": "markdown",
   "id": "5f8c9960",
   "metadata": {},
   "source": [
    "---\n",
    "\n",
    "# Simulating!\n",
    "## Rolling a Die"
   ]
  },
  {
   "cell_type": "code",
   "execution_count": 1,
   "id": "3ff13348",
   "metadata": {
    "ExecuteTime": {
     "end_time": "2021-09-07T13:07:19.310277Z",
     "start_time": "2021-09-07T13:07:18.506761Z"
    }
   },
   "outputs": [],
   "source": [
    "import numpy as np                # For randomness and calculations.\n",
    "import pandas as pd               # Representing data in tables.\n",
    "import matplotlib.pyplot as plt   # For plotting.\n",
    "\n",
    "plt.style.use('seaborn-poster')   # Set plot style.\n",
    "np.random.seed(51)                # Setting a random \"seed\" for reproducibility."
   ]
  },
  {
   "cell_type": "code",
   "execution_count": 2,
   "id": "981afff9",
   "metadata": {
    "ExecuteTime": {
     "end_time": "2021-09-07T13:07:19.322862Z",
     "start_time": "2021-09-07T13:07:19.314789Z"
    }
   },
   "outputs": [
    {
     "data": {
      "text/plain": [
       "2"
      ]
     },
     "execution_count": 2,
     "metadata": {},
     "output_type": "execute_result"
    }
   ],
   "source": [
    "# Ask numpy to choose a random value from the integers 1-6.\n",
    "np.random.choice(range(1,6+1))"
   ]
  },
  {
   "cell_type": "code",
   "execution_count": 3,
   "id": "5962c3f9",
   "metadata": {
    "ExecuteTime": {
     "end_time": "2021-09-07T13:07:19.332002Z",
     "start_time": "2021-09-07T13:07:19.325980Z"
    }
   },
   "outputs": [
    {
     "name": "stdout",
     "output_type": "stream",
     "text": [
      "6\n",
      "1\n",
      "2\n",
      "6\n",
      "1\n",
      "6\n",
      "5\n",
      "2\n",
      "6\n",
      "3\n"
     ]
    }
   ],
   "source": [
    "# Run the above 10 times!\n",
    "for _ in range(10):\n",
    "    print(np.random.choice(range(1,6+1)))"
   ]
  },
  {
   "cell_type": "code",
   "execution_count": 4,
   "id": "0cbfc4d6",
   "metadata": {
    "ExecuteTime": {
     "end_time": "2021-09-07T13:07:19.339414Z",
     "start_time": "2021-09-07T13:07:19.335683Z"
    }
   },
   "outputs": [],
   "source": [
    "# A function so we don't have to copy and paste code!\n",
    "def roll_die():\n",
    "    \"\"\"Returns a value of a fair-die.\"\"\"\n",
    "    \n",
    "    return np.random.choice(range(1,6+1))"
   ]
  },
  {
   "cell_type": "markdown",
   "id": "d8b83a5e",
   "metadata": {},
   "source": [
    "### Simulate One Roll"
   ]
  },
  {
   "cell_type": "code",
   "execution_count": 5,
   "id": "1b3d2001",
   "metadata": {
    "ExecuteTime": {
     "end_time": "2021-09-07T13:07:19.353548Z",
     "start_time": "2021-09-07T13:07:19.350390Z"
    }
   },
   "outputs": [
    {
     "name": "stdout",
     "output_type": "stream",
     "text": [
      "I rolled a __6__ with my simulated die! I'm the best!\n"
     ]
    }
   ],
   "source": [
    "# Roll a die once!\n",
    "my_roll = roll_die()\n",
    "\n",
    "print(f\"I rolled a __{my_roll}__ with my simulated die! I'm the best!\")"
   ]
  },
  {
   "cell_type": "markdown",
   "id": "d7cc2207",
   "metadata": {},
   "source": [
    "### Simulate Many Rolls"
   ]
  },
  {
   "cell_type": "code",
   "execution_count": 6,
   "id": "4620dfc7",
   "metadata": {
    "ExecuteTime": {
     "end_time": "2021-09-07T13:07:19.716035Z",
     "start_time": "2021-09-07T13:07:19.361386Z"
    }
   },
   "outputs": [
    {
     "data": {
      "text/plain": [
       "[Text(0.5, 1.0, 'Roll Frequency'),\n",
       " Text(0.5, 0, 'Result'),\n",
       " Text(0, 0.5, 'Count')]"
      ]
     },
     "execution_count": 6,
     "metadata": {},
     "output_type": "execute_result"
    },
    {
     "data": {
      "image/png": "[encoded data removed]",
      "text/plain": [
       "<Figure size 864x576 with 1 Axes>"
      ]
     },
     "metadata": {
      "needs_background": "light"
     },
     "output_type": "display_data"
    }
   ],
   "source": [
    "# Roll a die 6,000 times!!\n",
    "N_ROLLS = 6_000\n",
    "\n",
    "# Track the results of each roll.\n",
    "num_freq = {}\n",
    "for _ in range(N_ROLLS): # Do the loop `N_ROLLS` times.\n",
    "    value = roll_die()   # Roll a die.\n",
    "    num_freq[value] = num_freq.get(value, 0) + 1 # Add 1 to the count for the roll.\n",
    "\n",
    "# Plot the results!\n",
    "fig, ax = plt.subplots(figsize=(12, 8))\n",
    "ax.bar(\n",
    "    x=range(1, 6+1), \n",
    "    height=[y for x, y in \n",
    "            sorted(list(num_freq.items()), \n",
    "                   key=lambda x: x[0])],\n",
    "    color='tab:blue'\n",
    ")\n",
    "ax.axhline(y=N_ROLLS//6, color='tab:orange', ls=':')\n",
    "ax.set(title='Roll Frequency', xlabel='Result', ylabel='Count')"
   ]
  },
  {
   "cell_type": "markdown",
   "id": "17b7f81e",
   "metadata": {},
   "source": [
    "### Formatting Dice Rolls\n",
    "*We need to create a system for how our rolls are going to look.*\n",
    "\n",
    "\n",
    "- *Since we have to roll **multiple dice** for both the attacker and defender, we need a function to return a **list of numbers** representing all the rolls together!*\n",
    "     \n",
    "     \n",
    "- *The number of dice depends on the side and the number of armies on the side.*"
   ]
  },
  {
   "cell_type": "code",
   "execution_count": 7,
   "id": "2971a8d2",
   "metadata": {
    "ExecuteTime": {
     "end_time": "2021-09-07T13:07:19.722096Z",
     "start_time": "2021-09-07T13:07:19.718280Z"
    }
   },
   "outputs": [],
   "source": [
    "# Format for attacker.\n",
    "def roll_attacker(n_armies):\n",
    "    \"\"\"\n",
    "    Returns a list of **sorted** dice rolls for the attacker.\n",
    "    \n",
    "    Parameters:\n",
    "    -----------\n",
    "    n_armies (int): \n",
    "        Number of armies that the attacking side has.\n",
    "        The number of dice will be equal to the number of armies (max 3).\n",
    "        \n",
    "    Returns:\n",
    "    --------\n",
    "    List of dice rolls (integers).\n",
    "    \"\"\"\n",
    "    \n",
    "    # If there are no armies, there will be no rolls!\n",
    "    if not n_armies:\n",
    "        return []\n",
    "    \n",
    "    # Number of dice should be whatever's smaller: 3 or n_armies.\n",
    "    n_dice = min(3, n_armies)\n",
    "    \n",
    "    # Roll the dice!\n",
    "    rolls = sorted([roll_die() for _ in range(n_dice)], reverse=True)\n",
    "    \n",
    "    return rolls"
   ]
  },
  {
   "cell_type": "code",
   "execution_count": 8,
   "id": "5a4d37ad",
   "metadata": {
    "ExecuteTime": {
     "end_time": "2021-09-07T13:07:19.728162Z",
     "start_time": "2021-09-07T13:07:19.723919Z"
    }
   },
   "outputs": [
    {
     "data": {
      "text/plain": [
       "[3, 2, 1]"
      ]
     },
     "execution_count": 8,
     "metadata": {},
     "output_type": "execute_result"
    }
   ],
   "source": [
    "# Let's test what it looks like if the attacker has 5 armies!\n",
    "sample_attack = roll_attacker(5)\n",
    "sample_attack"
   ]
  },
  {
   "cell_type": "code",
   "execution_count": 9,
   "id": "34c62210",
   "metadata": {
    "ExecuteTime": {
     "end_time": "2021-09-07T13:07:19.734699Z",
     "start_time": "2021-09-07T13:07:19.730312Z"
    }
   },
   "outputs": [],
   "source": [
    "# Format for defender.\n",
    "def roll_defender(n_armies):\n",
    "    \"\"\"\n",
    "    Returns a list of **sorted** dice rolls for the defender.\n",
    "    \n",
    "    Parameters:\n",
    "    -----------\n",
    "    n_armies (int): \n",
    "        Number of armies that the attacking side has.\n",
    "        The number of dice will be equal to the number of armies (max 2).\n",
    "        \n",
    "    Returns:\n",
    "    --------\n",
    "    List of dice rolls (integers).\n",
    "    \"\"\"\n",
    "    \n",
    "    # If there are no armies, there will be no rolls!\n",
    "    if not n_armies:\n",
    "        return []\n",
    "    \n",
    "    # Number of dice should be whatever's smaller: 2 or n_armies.\n",
    "    n_dice = min(2, n_armies)\n",
    "    \n",
    "    # Roll the dice!\n",
    "    rolls = sorted([roll_die() for _ in range(n_dice)], reverse=True)\n",
    "    \n",
    "    return rolls"
   ]
  },
  {
   "cell_type": "code",
   "execution_count": 10,
   "id": "5eaf6fbd",
   "metadata": {
    "ExecuteTime": {
     "end_time": "2021-09-07T13:07:19.740718Z",
     "start_time": "2021-09-07T13:07:19.736866Z"
    }
   },
   "outputs": [
    {
     "data": {
      "text/plain": [
       "[6, 5]"
      ]
     },
     "execution_count": 10,
     "metadata": {},
     "output_type": "execute_result"
    }
   ],
   "source": [
    "# Let's test what it looks like if the defender has 5 armies!\n",
    "sample_defense = roll_defender(5)\n",
    "sample_defense"
   ]
  },
  {
   "cell_type": "markdown",
   "id": "5afd7239",
   "metadata": {},
   "source": [
    "## Comparing Dice Rolls\n",
    "\n",
    "- *We need to compare the rolls and find out how many armies are lost in a given roll.*"
   ]
  },
  {
   "cell_type": "code",
   "execution_count": 11,
   "id": "dca3ce96",
   "metadata": {
    "ExecuteTime": {
     "end_time": "2021-09-07T13:07:19.747848Z",
     "start_time": "2021-09-07T13:07:19.743001Z"
    }
   },
   "outputs": [],
   "source": [
    "def compare_rolls(attacker_roll, defender_roll):\n",
    "    \"\"\"\n",
    "    Returns number of armies to remove fom each side in the form of:\n",
    "        `(attacker_loss, defender_loss)`\n",
    "    \"\"\"\n",
    "    \n",
    "    # Set up - each side begins without losing any armies.\n",
    "    attacker_loss = 0\n",
    "    defender_loss = 0\n",
    "    \n",
    "    # Combine rolls to compare (highest -> highest, second-highest -> second-highest, etc)\n",
    "    zipped_rolls = zip(attacker_roll, defender_roll) \n",
    "    \n",
    "    # Compare dice rolls one at a time.\n",
    "    for attack, defense in zipped_rolls:\n",
    "        if attack > defense: # Attack must be greater than, not equal to!\n",
    "            defender_loss += 1\n",
    "        else:\n",
    "            attacker_loss += 1\n",
    "        \n",
    "    return attacker_loss, defender_loss"
   ]
  },
  {
   "cell_type": "code",
   "execution_count": 12,
   "id": "ce9a746e",
   "metadata": {
    "ExecuteTime": {
     "end_time": "2021-09-07T13:07:19.756419Z",
     "start_time": "2021-09-07T13:07:19.750847Z"
    }
   },
   "outputs": [
    {
     "name": "stdout",
     "output_type": "stream",
     "text": [
      "Attack:  [3, 2, 1]\n",
      "Defense: [6, 5]\n",
      "\n",
      "Attacker losses: 2\n",
      "Defender losses: 0\n"
     ]
    }
   ],
   "source": [
    "# Show the sample from before.\n",
    "print(f'Attack:  {sample_attack}\\nDefense: {sample_defense}\\n')\n",
    "\n",
    "# Utilize the `compare` function.\n",
    "sample_a_loss, sample_d_loss = compare_rolls(sample_attack, sample_defense)\n",
    "\n",
    "# Print the results as a sanity check.\n",
    "print(f'Attacker losses: {sample_a_loss}\\nDefender losses: {sample_d_loss}')"
   ]
  },
  {
   "cell_type": "markdown",
   "id": "53c99441",
   "metadata": {},
   "source": [
    "## Putting it *On The Board*"
   ]
  },
  {
   "cell_type": "code",
   "execution_count": 13,
   "id": "7c616adc",
   "metadata": {
    "ExecuteTime": {
     "end_time": "2021-09-07T13:07:19.767762Z",
     "start_time": "2021-09-07T13:07:19.758731Z"
    }
   },
   "outputs": [
    {
     "name": "stdout",
     "output_type": "stream",
     "text": [
      "Roll #1\n",
      "\tAttacker Count: 5\n",
      "\tDefender Count: 5\n",
      "\t-----\n",
      "\tAttacker Roll: [6, 4, 2]\n",
      "\tDefender Roll: [4, 1]\n",
      "\tAttacker Loses 0. Defender Loses 2\n",
      "Roll #2\n",
      "\tAttacker Count: 5\n",
      "\tDefender Count: 3\n",
      "\t-----\n",
      "\tAttacker Roll: [6, 3, 3]\n",
      "\tDefender Roll: [6, 2]\n",
      "\tAttacker Loses 1. Defender Loses 1\n",
      "Roll #3\n",
      "\tAttacker Count: 4\n",
      "\tDefender Count: 2\n",
      "\t-----\n",
      "\tAttacker Roll: [6, 6, 3]\n",
      "\tDefender Roll: [5, 1]\n",
      "\tAttacker Loses 0. Defender Loses 2\n",
      "FINAL RESULTS\n",
      "Attacker has 4 remaining!\n",
      "Defender has 0 remianing!\n"
     ]
    }
   ],
   "source": [
    "# How many armies does each side have?\n",
    "ATTACKING_ARMIES = 5\n",
    "DEFENDING_ARMIES = 5\n",
    "RND = 1 # This is to track the progress if the dice are rolled multiple times.\n",
    "\n",
    "# Run the loop while until one side has no armies remaining!\n",
    "while ATTACKING_ARMIES and DEFENDING_ARMIES:\n",
    "    # Display update.\n",
    "    print(f'Roll #{RND}')\n",
    "    print(f'\\tAttacker Count: {ATTACKING_ARMIES}')\n",
    "    print(f'\\tDefender Count: {DEFENDING_ARMIES}')\n",
    "    print('\\t-----')\n",
    "    \n",
    "    # Roll the dice for each side.\n",
    "    attack = roll_attacker(ATTACKING_ARMIES)\n",
    "    defense = roll_defender(DEFENDING_ARMIES)\n",
    "    \n",
    "    # Compare the rolls.\n",
    "    a_loss, d_loss = compare_rolls(attack, defense)\n",
    "    \n",
    "    # Subtract the losses.\n",
    "    ATTACKING_ARMIES -= a_loss\n",
    "    DEFENDING_ARMIES -= d_loss\n",
    "    \n",
    "    # Display update.\n",
    "    print(f'\\tAttacker Roll: {attack}\\n\\tDefender Roll: {defense}')\n",
    "    print(f'\\tAttacker Loses {a_loss}. Defender Loses {d_loss}')\n",
    "    \n",
    "    # Advance the round.\n",
    "    RND += 1\n",
    "    \n",
    "print('FINAL RESULTS')\n",
    "print(f'Attacker has {ATTACKING_ARMIES} remaining!')\n",
    "print(f'Defender has {DEFENDING_ARMIES} remianing!')"
   ]
  },
  {
   "cell_type": "markdown",
   "id": "cebc7d03",
   "metadata": {},
   "source": [
    "### Functionalizing a Skirmish\n",
    "\n",
    "*We are now going to simply put that code into a function so we can use it many times without copying / pasting the code!*"
   ]
  },
  {
   "cell_type": "code",
   "execution_count": 14,
   "id": "0427aa73",
   "metadata": {
    "ExecuteTime": {
     "end_time": "2021-09-07T13:07:19.776880Z",
     "start_time": "2021-09-07T13:07:19.770610Z"
    }
   },
   "outputs": [],
   "source": [
    "def run_simulation(ATTACKING_ARMIES, DEFENDING_ARMIES, verbose=False):\n",
    "    \"\"\"\n",
    "    Run a simulation where the armies roll off until one is eliminated.\n",
    "    Return the win margin from the perspective of the Attacker.\n",
    "        `ATTACKING_ARMIES - DEFENDING_ARMIES`\n",
    "    \"\"\"\n",
    "    \n",
    "    RND = 1\n",
    "    while ATTACKING_ARMIES and DEFENDING_ARMIES:\n",
    "        # Display update.\n",
    "        if verbose:\n",
    "            print(f'#{RND}')\n",
    "            print(f'\\tAttacker Count: {ATTACKING_ARMIES}')\n",
    "            print(f'\\tDefender Count: {DEFENDING_ARMIES}')\n",
    "            print('\\t-----')\n",
    "\n",
    "        # Roll the dice.\n",
    "        attack = roll_attacker(ATTACKING_ARMIES)\n",
    "        defense = roll_defender(DEFENDING_ARMIES)\n",
    "\n",
    "        # Compare the rolls.\n",
    "        a_loss, d_loss = compare_rolls(attack, defense)\n",
    "\n",
    "        # Subtract the losses.\n",
    "        ATTACKING_ARMIES -= a_loss\n",
    "        DEFENDING_ARMIES -= d_loss\n",
    "\n",
    "        # Display update.\n",
    "        if verbose:\n",
    "            print(f'\\tAttacker Roll: {attack}\\n\\tDefender Roll: {defense}')\n",
    "            print(f'\\tAttacker Loses {a_loss}. Defender Loses {d_loss}')\n",
    "\n",
    "        # Advance the round.\n",
    "        RND += 1\n",
    "    if verbose:\n",
    "        print('FINAL RESULTS')\n",
    "        print(f'Attacker has {ATTACKING_ARMIES} remaining!')\n",
    "        print(f'Defender has {DEFENDING_ARMIES} remianing!')\n",
    "    return ATTACKING_ARMIES - DEFENDING_ARMIES"
   ]
  },
  {
   "cell_type": "code",
   "execution_count": 15,
   "id": "25ea7da3",
   "metadata": {
    "ExecuteTime": {
     "end_time": "2021-09-07T13:07:19.783917Z",
     "start_time": "2021-09-07T13:07:19.779872Z"
    }
   },
   "outputs": [
    {
     "data": {
      "text/plain": [
       "4"
      ]
     },
     "execution_count": 15,
     "metadata": {},
     "output_type": "execute_result"
    }
   ],
   "source": [
    "# Test the function!\n",
    "run_simulation(5, 5)"
   ]
  },
  {
   "cell_type": "markdown",
   "id": "faefc667",
   "metadata": {},
   "source": [
    "*What does this value mean? How do we interpret this result?*"
   ]
  },
  {
   "cell_type": "markdown",
   "id": "a08dc9d2",
   "metadata": {},
   "source": [
    "#### Test - Army A vs Army B"
   ]
  },
  {
   "cell_type": "code",
   "execution_count": 16,
   "id": "9561e745",
   "metadata": {
    "ExecuteTime": {
     "end_time": "2021-09-07T13:07:19.864892Z",
     "start_time": "2021-09-07T13:07:19.786220Z"
    }
   },
   "outputs": [],
   "source": [
    "# Run 1000 simulations.\n",
    "two_v_two_results = [run_simulation(2, 2) for _ in range(1000)]"
   ]
  },
  {
   "cell_type": "markdown",
   "id": "0cece22c",
   "metadata": {},
   "source": [
    "> *Explanation of above code:*\n",
    "> ```python\n",
    "> [run_simulation(2, 2) ... for _ in range(1000)]\n",
    ">  # DO THIS THING          # THIS MANY TIMES\n",
    "> ```"
   ]
  },
  {
   "cell_type": "code",
   "execution_count": 17,
   "id": "275e7bbb",
   "metadata": {
    "ExecuteTime": {
     "end_time": "2021-09-07T13:07:19.873363Z",
     "start_time": "2021-09-07T13:07:19.868326Z"
    }
   },
   "outputs": [
    {
     "data": {
      "text/plain": [
       "[-2, -1, -2, -2, 2, -2, -2, -2, -2, -1]"
      ]
     },
     "execution_count": 17,
     "metadata": {},
     "output_type": "execute_result"
    }
   ],
   "source": [
    "# Look at the first 10 results.\n",
    "two_v_two_results[:10]"
   ]
  },
  {
   "cell_type": "code",
   "execution_count": 18,
   "id": "42c320fb",
   "metadata": {
    "ExecuteTime": {
     "end_time": "2021-09-07T13:07:19.894259Z",
     "start_time": "2021-09-07T13:07:19.876220Z"
    }
   },
   "outputs": [
    {
     "data": {
      "text/html": [
       "<div>\n",
       "<style scoped>\n",
       "    .dataframe tbody tr th:only-of-type {\n",
       "        vertical-align: middle;\n",
       "    }\n",
       "\n",
       "    .dataframe tbody tr th {\n",
       "        vertical-align: top;\n",
       "    }\n",
       "\n",
       "    .dataframe thead th {\n",
       "        text-align: right;\n",
       "    }\n",
       "</style>\n",
       "<table border=\"1\" class=\"dataframe\">\n",
       "  <thead>\n",
       "    <tr style=\"text-align: right;\">\n",
       "      <th></th>\n",
       "      <th>index</th>\n",
       "      <th>count</th>\n",
       "    </tr>\n",
       "  </thead>\n",
       "  <tbody>\n",
       "    <tr>\n",
       "      <th>0</th>\n",
       "      <td>-2</td>\n",
       "      <td>435</td>\n",
       "    </tr>\n",
       "    <tr>\n",
       "      <th>2</th>\n",
       "      <td>-1</td>\n",
       "      <td>179</td>\n",
       "    </tr>\n",
       "    <tr>\n",
       "      <th>3</th>\n",
       "      <td>1</td>\n",
       "      <td>162</td>\n",
       "    </tr>\n",
       "    <tr>\n",
       "      <th>1</th>\n",
       "      <td>2</td>\n",
       "      <td>224</td>\n",
       "    </tr>\n",
       "  </tbody>\n",
       "</table>\n",
       "</div>"
      ],
      "text/plain": [
       "   index  count\n",
       "0     -2    435\n",
       "2     -1    179\n",
       "3      1    162\n",
       "1      2    224"
      ]
     },
     "execution_count": 18,
     "metadata": {},
     "output_type": "execute_result"
    }
   ],
   "source": [
    "# Count the results!\n",
    "results_count = (\n",
    "    pd.Series(two_v_two_results, name='count')\n",
    "    .value_counts()\n",
    "    .reset_index()\n",
    "    .sort_values('index')\n",
    ")\n",
    "results_count"
   ]
  },
  {
   "cell_type": "code",
   "execution_count": 19,
   "id": "a65ff273",
   "metadata": {
    "ExecuteTime": {
     "end_time": "2021-09-07T13:07:20.090498Z",
     "start_time": "2021-09-07T13:07:19.896183Z"
    }
   },
   "outputs": [
    {
     "data": {
      "image/png": "[encoded data removed]",
      "text/plain": [
       "<Figure size 921.6x633.6 with 1 Axes>"
      ]
     },
     "metadata": {
      "needs_background": "light"
     },
     "output_type": "display_data"
    }
   ],
   "source": [
    "# Plot the results!\n",
    "fig, ax = plt.subplots()\n",
    "ax.barh(results_count['index'], results_count['count'])\n",
    "ax.set_yticks([-2, -1, 0, 1, 2])\n",
    "ax.set_yticklabels(['Defender Wins: 2-0', 'Defender Wins: 1-0', \n",
    "                    'No Armies Left', \n",
    "                    'Attacker Wins: 1-0', 'Attacker Wins: 2-0'])\n",
    "ax.set(title='2 v 2: Results', xlabel='Number of Instances')\n",
    "fig.tight_layout()"
   ]
  },
  {
   "cell_type": "code",
   "execution_count": 20,
   "id": "6453372e",
   "metadata": {
    "ExecuteTime": {
     "end_time": "2021-09-07T13:07:20.097021Z",
     "start_time": "2021-09-07T13:07:20.092659Z"
    }
   },
   "outputs": [
    {
     "data": {
      "text/plain": [
       "-0.439"
      ]
     },
     "execution_count": 20,
     "metadata": {},
     "output_type": "execute_result"
    }
   ],
   "source": [
    "# Find the mean of all the results!\n",
    "two_v_2_mean = np.mean(two_v_two_results)\n",
    "two_v_2_mean"
   ]
  },
  {
   "cell_type": "markdown",
   "id": "a5ba75e6",
   "metadata": {},
   "source": [
    "*We can interpret this result!*\n",
    "> ***When an army of size 2 fights another army of size 2, the defender is expected to win by a margin of 0.439 units.***"
   ]
  },
  {
   "cell_type": "markdown",
   "id": "6d69707f",
   "metadata": {},
   "source": [
    "#### Function - Normalize Results\n",
    "- *Typically, **it's normal to normalize** our results in order to best compare one simulation to another.*\n",
    "\n",
    "\n",
    "- *We have a figure above which shows a margin of victory as a **raw count**.*\n",
    "\n",
    "\n",
    "- *In order to compare a 2v2 battle to a larger battle, we should normalize the results.*\n",
    "    - *The normalized results should be **proportionate to the starting army sizes**.*"
   ]
  },
  {
   "cell_type": "code",
   "execution_count": 21,
   "id": "2dd26b78",
   "metadata": {
    "ExecuteTime": {
     "end_time": "2021-09-07T13:07:20.102802Z",
     "start_time": "2021-09-07T13:07:20.099125Z"
    }
   },
   "outputs": [],
   "source": [
    "def normalized_mean(army_size, n_simulations):\n",
    "    \"\"\"\n",
    "    Returns a scaled mean-result of the remaining army sizes.\n",
    "        A value of `1` is best for the attacker.\n",
    "            (means the attacker won without losing an army)\n",
    "        A value of `-1` is best for the defender.\n",
    "            (means the defender won without losing an army)\n",
    "        The closer to 0, the more balanced the result is.\n",
    "    \"\"\"\n",
    "    \n",
    "    # Run simulations.\n",
    "    results = [run_simulation(army_size, army_size) \n",
    "                for _ in range(n_simulations)]\n",
    "    \n",
    "    # Find mean.\n",
    "    mean_results = np.mean(results)\n",
    "    \n",
    "    # Normalized mean - proportionate to the starting army sizes!\n",
    "    normalized_mean = mean_results / army_size\n",
    "    \n",
    "    return normalized_mean"
   ]
  },
  {
   "cell_type": "markdown",
   "id": "d074e29c",
   "metadata": {},
   "source": [
    "*Look at the normalized results for a 2v2!*"
   ]
  },
  {
   "cell_type": "code",
   "execution_count": 22,
   "id": "f3d9b137",
   "metadata": {
    "ExecuteTime": {
     "end_time": "2021-09-07T13:07:20.193238Z",
     "start_time": "2021-09-07T13:07:20.104737Z"
    }
   },
   "outputs": [
    {
     "data": {
      "text/html": [
       "<div>\n",
       "<style scoped>\n",
       "    .dataframe tbody tr th:only-of-type {\n",
       "        vertical-align: middle;\n",
       "    }\n",
       "\n",
       "    .dataframe tbody tr th {\n",
       "        vertical-align: top;\n",
       "    }\n",
       "\n",
       "    .dataframe thead th {\n",
       "        text-align: right;\n",
       "    }\n",
       "</style>\n",
       "<table border=\"1\" class=\"dataframe\">\n",
       "  <thead>\n",
       "    <tr style=\"text-align: right;\">\n",
       "      <th></th>\n",
       "      <th>index</th>\n",
       "      <th>count</th>\n",
       "    </tr>\n",
       "  </thead>\n",
       "  <tbody>\n",
       "    <tr>\n",
       "      <th>0</th>\n",
       "      <td>-1.0</td>\n",
       "      <td>433</td>\n",
       "    </tr>\n",
       "    <tr>\n",
       "      <th>1</th>\n",
       "      <td>-0.5</td>\n",
       "      <td>207</td>\n",
       "    </tr>\n",
       "    <tr>\n",
       "      <th>3</th>\n",
       "      <td>0.5</td>\n",
       "      <td>156</td>\n",
       "    </tr>\n",
       "    <tr>\n",
       "      <th>2</th>\n",
       "      <td>1.0</td>\n",
       "      <td>204</td>\n",
       "    </tr>\n",
       "  </tbody>\n",
       "</table>\n",
       "</div>"
      ],
      "text/plain": [
       "   index  count\n",
       "0   -1.0    433\n",
       "1   -0.5    207\n",
       "3    0.5    156\n",
       "2    1.0    204"
      ]
     },
     "execution_count": 22,
     "metadata": {},
     "output_type": "execute_result"
    }
   ],
   "source": [
    "# Do a quick comparison with the normalized results!\n",
    "norm_results = [run_simulation(2, 2) / 2 # Divide by the number of armies!\n",
    "                for _ in range(1000)]\n",
    "\n",
    "# Get count of each result.\n",
    "norm_results_count = (\n",
    "    pd.Series(norm_results, name='count')\n",
    "    .value_counts()\n",
    "    .reset_index()\n",
    "    .sort_values('index')\n",
    ")\n",
    "norm_results_count"
   ]
  },
  {
   "cell_type": "code",
   "execution_count": 23,
   "id": "f6db06ea",
   "metadata": {
    "ExecuteTime": {
     "end_time": "2021-09-07T13:07:20.397106Z",
     "start_time": "2021-09-07T13:07:20.195281Z"
    }
   },
   "outputs": [
    {
     "data": {
      "text/plain": [
       "<BarContainer object of 4 artists>"
      ]
     },
     "execution_count": 23,
     "metadata": {},
     "output_type": "execute_result"
    },
    {
     "data": {
      "image/png": "[encoded data removed]",
      "text/plain": [
       "<Figure size 921.6x633.6 with 1 Axes>"
      ]
     },
     "metadata": {
      "needs_background": "light"
     },
     "output_type": "display_data"
    }
   ],
   "source": [
    "# Quick plot to compare above!\n",
    "fig, ax = plt.subplots()\n",
    "ax.bar(norm_results_count['index'].astype(str), norm_results_count['count'])"
   ]
  },
  {
   "cell_type": "markdown",
   "id": "5af27f80",
   "metadata": {},
   "source": [
    "---\n",
    "\n",
    "# Questions"
   ]
  },
  {
   "cell_type": "markdown",
   "id": "ab4294a4",
   "metadata": {},
   "source": [
    "## What is the average result with army sizes of:"
   ]
  },
  {
   "cell_type": "code",
   "execution_count": 24,
   "id": "140498a1",
   "metadata": {
    "ExecuteTime": {
     "end_time": "2021-09-07T13:07:20.403413Z",
     "start_time": "2021-09-07T13:07:20.399594Z"
    }
   },
   "outputs": [],
   "source": [
    "# Setting up a variable - number of simulations.\n",
    "N_SIMULATIONS = 1000"
   ]
  },
  {
   "cell_type": "markdown",
   "id": "02d848b7",
   "metadata": {},
   "source": [
    "### 1 vs 1"
   ]
  },
  {
   "cell_type": "code",
   "execution_count": 25,
   "id": "dfe43656",
   "metadata": {
    "ExecuteTime": {
     "end_time": "2021-09-07T13:07:20.451976Z",
     "start_time": "2021-09-07T13:07:20.405793Z"
    }
   },
   "outputs": [
    {
     "data": {
      "text/plain": [
       "-0.172"
      ]
     },
     "execution_count": 25,
     "metadata": {},
     "output_type": "execute_result"
    }
   ],
   "source": [
    "one = normalized_mean(1, N_SIMULATIONS)\n",
    "one"
   ]
  },
  {
   "cell_type": "markdown",
   "id": "e2cb0df2",
   "metadata": {},
   "source": [
    "### 2 vs 2"
   ]
  },
  {
   "cell_type": "code",
   "execution_count": 26,
   "id": "8d6b2928",
   "metadata": {
    "ExecuteTime": {
     "end_time": "2021-09-07T13:07:20.534468Z",
     "start_time": "2021-09-07T13:07:20.453950Z"
    }
   },
   "outputs": [
    {
     "data": {
      "text/plain": [
       "-0.251"
      ]
     },
     "execution_count": 26,
     "metadata": {},
     "output_type": "execute_result"
    }
   ],
   "source": [
    "two = normalized_mean(2, N_SIMULATIONS)\n",
    "two"
   ]
  },
  {
   "cell_type": "markdown",
   "id": "059f4617",
   "metadata": {},
   "source": [
    "### 3 vs 3"
   ]
  },
  {
   "cell_type": "code",
   "execution_count": 27,
   "id": "30b8c9fe",
   "metadata": {
    "ExecuteTime": {
     "end_time": "2021-09-07T13:07:20.679137Z",
     "start_time": "2021-09-07T13:07:20.536837Z"
    }
   },
   "outputs": [
    {
     "data": {
      "text/plain": [
       "-0.06033333333333333"
      ]
     },
     "execution_count": 27,
     "metadata": {},
     "output_type": "execute_result"
    }
   ],
   "source": [
    "three = normalized_mean(3, N_SIMULATIONS)\n",
    "three"
   ]
  },
  {
   "cell_type": "markdown",
   "id": "5d4ff9f2",
   "metadata": {},
   "source": [
    "### 4 vs 4"
   ]
  },
  {
   "cell_type": "code",
   "execution_count": 28,
   "id": "13461392",
   "metadata": {
    "ExecuteTime": {
     "end_time": "2021-09-07T13:07:20.865527Z",
     "start_time": "2021-09-07T13:07:20.680659Z"
    }
   },
   "outputs": [
    {
     "data": {
      "text/plain": [
       "-0.03575"
      ]
     },
     "execution_count": 28,
     "metadata": {},
     "output_type": "execute_result"
    }
   ],
   "source": [
    "four = normalized_mean(4, N_SIMULATIONS)\n",
    "four"
   ]
  },
  {
   "cell_type": "markdown",
   "id": "685c58d5",
   "metadata": {},
   "source": [
    "### 5 vs 5"
   ]
  },
  {
   "cell_type": "code",
   "execution_count": 29,
   "id": "651419a8",
   "metadata": {
    "ExecuteTime": {
     "end_time": "2021-09-07T13:07:21.107685Z",
     "start_time": "2021-09-07T13:07:20.867364Z"
    }
   },
   "outputs": [
    {
     "data": {
      "text/plain": [
       "0.020999999999999998"
      ]
     },
     "execution_count": 29,
     "metadata": {},
     "output_type": "execute_result"
    }
   ],
   "source": [
    "five = normalized_mean(5, N_SIMULATIONS)\n",
    "five"
   ]
  },
  {
   "cell_type": "markdown",
   "id": "1c6342f2",
   "metadata": {},
   "source": [
    "### Plot Results Thusfar"
   ]
  },
  {
   "cell_type": "code",
   "execution_count": 30,
   "id": "e35f46ac",
   "metadata": {
    "ExecuteTime": {
     "end_time": "2021-09-07T13:07:21.284916Z",
     "start_time": "2021-09-07T13:07:21.109810Z"
    }
   },
   "outputs": [
    {
     "data": {
      "text/plain": [
       "[Text(0.5, 1.0, 'Relative Margin of Victory'),\n",
       " Text(0, 0.5, 'Winning Margin'),\n",
       " Text(0.5, 0, 'Army Size')]"
      ]
     },
     "execution_count": 30,
     "metadata": {},
     "output_type": "execute_result"
    },
    {
     "data": {
      "image/png": "[encoded data removed]",
      "text/plain": [
       "<Figure size 921.6x633.6 with 1 Axes>"
      ]
     },
     "metadata": {
      "needs_background": "light"
     },
     "output_type": "display_data"
    }
   ],
   "source": [
    "fig, ax = plt.subplots()\n",
    "x_vals = range(1, 5+1)\n",
    "y_vals = [one, two, three, four, five]\n",
    "colors = ['tab:red' if y < 0 else 'tab:blue' for y in y_vals]\n",
    "\n",
    "ax.bar(x=x_vals, \n",
    "       height=y_vals,\n",
    "       color=colors)\n",
    "\n",
    "ax.set_yticks([-1, 0, 1])\n",
    "ax.set_yticklabels(['Defender Advantage', 'Even', 'Attacker Advantage'])\n",
    "ax.set_xticks(x_vals)\n",
    "ax.set_ylim(-1, 1)\n",
    "ax.set(title='Relative Margin of Victory',\n",
    "       ylabel='Winning Margin',\n",
    "       xlabel='Army Size')"
   ]
  },
  {
   "cell_type": "code",
   "execution_count": 31,
   "id": "d0024b26",
   "metadata": {
    "ExecuteTime": {
     "end_time": "2021-09-07T13:07:21.292151Z",
     "start_time": "2021-09-07T13:07:21.286881Z"
    }
   },
   "outputs": [],
   "source": [
    "# Functionalize the above code.\n",
    "def plot_results_for_n_simulations(army_sizes, n_simulations=1_000):\n",
    "    \"\"\"\n",
    "    Run `n_simulations` and plot the relative winning margins for each \n",
    "    army size in the given `army_sizes`.\n",
    "    \"\"\"\n",
    "    \n",
    "    with plt.style.context('seaborn-talk'):\n",
    "        fig, ax = plt.subplots()\n",
    "        x_vals = army_sizes\n",
    "        y_vals = [normalized_mean(size, n_simulations) for size in army_sizes]\n",
    "        colors = ['tab:red' if y < 0 else 'tab:blue' for y in y_vals]\n",
    "        ax.bar(x=x_vals,\n",
    "               height=y_vals,\n",
    "               color=colors)\n",
    "\n",
    "        ax.set_yticks([-1, 0, 1])\n",
    "        ax.set_yticklabels(['Defender Advantage', 'Even', 'Attacker Advantage'])\n",
    "        ax.set_xticks(x_vals)\n",
    "        ax.set_ylim(-1, 1)\n",
    "        ax.set(title='Relative Margin of Victory',\n",
    "               ylabel='Winning Margin',\n",
    "               xlabel='Army Size')\n",
    "        fig.tight_layout()\n",
    "        plt.show()"
   ]
  },
  {
   "cell_type": "code",
   "execution_count": 32,
   "id": "24fb9b0b",
   "metadata": {
    "ExecuteTime": {
     "end_time": "2021-09-07T13:07:22.048670Z",
     "start_time": "2021-09-07T13:07:21.298892Z"
    }
   },
   "outputs": [
    {
     "data": {
      "image/png": "[encoded data removed]",
      "text/plain": [
       "<Figure size 748.8x514.8 with 1 Axes>"
      ]
     },
     "metadata": {
      "needs_background": "light"
     },
     "output_type": "display_data"
    }
   ],
   "source": [
    "# Testing to compare against above.\n",
    "plot_results_for_n_simulations([1, 2, 3, 4, 5])"
   ]
  },
  {
   "cell_type": "markdown",
   "id": "23efda91",
   "metadata": {},
   "source": [
    "# A Large-Scale Simulation\n",
    "\n",
    "*Let's put it all together!*\n",
    "1. Go through army-sizes from 1 through 20.\n",
    "2. Run 1,000 simulations where armies do battle!\n",
    "3. Record the average, standardized results for those simulations.\n",
    "4. Plot the results to compare!"
   ]
  },
  {
   "cell_type": "code",
   "execution_count": 33,
   "id": "5cf275b3",
   "metadata": {
    "ExecuteTime": {
     "end_time": "2021-09-07T13:07:31.843573Z",
     "start_time": "2021-09-07T13:07:22.050494Z"
    }
   },
   "outputs": [
    {
     "data": {
      "image/png": "[encoded data removed]",
      "text/plain": [
       "<Figure size 748.8x514.8 with 1 Axes>"
      ]
     },
     "metadata": {
      "needs_background": "light"
     },
     "output_type": "display_data"
    }
   ],
   "source": [
    "plot_results_for_n_simulations(range(1, 21))"
   ]
  },
  {
   "cell_type": "markdown",
   "id": "b3547522",
   "metadata": {},
   "source": [
    "# Congrats!\n",
    "\n",
    "<img src='images/celebrate.jpeg' width=50%>\n",
    "\n",
    "***We've managed to build a pretty substantial simulation from the ground up!***\n",
    "\n",
    "We:\n",
    "1. Simulated rolling a die!\n",
    "2. Simulated rolling dice for an \"attacker\" and \"defender\"!\n",
    "3. Compared an \"attacker roll\" to a \"defender roll\".\n",
    "    - *Used this to determine how many armies should be removed.*\n",
    "4. Simulated a \"battle\" from start to finish - until one side was eliminated - and tracked results!\n",
    "5. Normalized our results to be able to compare the **margin of victory** for armies of different sizes."
   ]
  }
 ],
 "metadata": {
  "kernelspec": {
   "display_name": "Python [conda env:learn-env] *",
   "language": "python",
   "name": "conda-env-learn-env-py"
  },
  "language_info": {
   "codemirror_mode": {
    "name": "ipython",
    "version": 3
   },
   "file_extension": ".py",
   "mimetype": "text/x-python",
   "name": "python",
   "nbconvert_exporter": "python",
   "pygments_lexer": "ipython3",
   "version": "3.6.9"
  },
  "toc": {
   "base_numbering": 1,
   "nav_menu": {},
   "number_sections": false,
   "sideBar": true,
   "skip_h1_title": false,
   "title_cell": "Table of Contents",
   "title_sidebar": "Contents",
   "toc_cell": false,
   "toc_position": {
    "height": "calc(100% - 180px)",
    "left": "10px",
    "top": "150px",
    "width": "373px"
   },
   "toc_section_display": true,
   "toc_window_display": true
  }
 },
 "nbformat": 4,
 "nbformat_minor": 5
}
